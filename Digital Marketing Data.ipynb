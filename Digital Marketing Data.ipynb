{
 "cells": [
  {
   "cell_type": "markdown",
   "metadata": {},
   "source": [
    "# Description"
   ]
  },
  {
   "cell_type": "markdown",
   "metadata": {},
   "source": [
    "This jupyter notebook examines the Yes Bank campaign data. The data is in the form of csv file. This marketing campaign is in the form of **carousels** and **banners**, where each of them is named on the basis of the targeting parameters they cover.\n",
    "\n",
    "Some of the performance parameters contained in the dataset are as follows-\n",
    "1. Results\n",
    "2. Reach\n",
    "3. Impressions\n",
    "4. Cost/Results\n",
    "5. Amount Spent \n",
    "6. Relevance Score\n",
    "\n",
    "The demographic parameters covered while targeting the customers are-\n",
    "1. Age\n",
    "2. Language\n",
    "3. Occupation\n",
    "4. Education"
   ]
  },
  {
   "cell_type": "markdown",
   "metadata": {},
   "source": [
    "# Steps Involved"
   ]
  },
  {
   "cell_type": "markdown",
   "metadata": {},
   "source": [
    "The flow of this project is as follows-\n",
    "1. Examining the data, look for dirty data and clean it.\n",
    "2. Visualising the data, and report patterns.\n",
    "3. Check if the segementation is possible or not, if possible do it."
   ]
  },
  {
   "cell_type": "markdown",
   "metadata": {},
   "source": [
    "# Examining the data"
   ]
  },
  {
   "cell_type": "markdown",
   "metadata": {},
   "source": [
    "## 1. Importing the required libraries"
   ]
  },
  {
   "cell_type": "code",
   "execution_count": 1,
   "metadata": {},
   "outputs": [],
   "source": [
    "import pandas as pd\n",
    "import numpy as np\n",
    "import matplotlib.pyplot as plt\n",
    "import seaborn as sns\n",
    "from sklearn.cluster import KMeans\n",
    "\n",
    "%matplotlib inline"
   ]
  },
  {
   "cell_type": "markdown",
   "metadata": {},
   "source": [
    "## 2. Importing the excel data"
   ]
  },
  {
   "cell_type": "code",
   "execution_count": 2,
   "metadata": {},
   "outputs": [],
   "source": [
    "# Importing the data which is a csv file\n",
    "\n",
    "data = pd.read_csv(\"C://Users//amanlp7//Downloads//Untitled-report-Sep-15-2018-Oct-11-2018.csv\")"
   ]
  },
  {
   "cell_type": "markdown",
   "metadata": {},
   "source": [
    "## 3. Number of rows and columns"
   ]
  },
  {
   "cell_type": "code",
   "execution_count": 3,
   "metadata": {},
   "outputs": [
    {
     "name": "stdout",
     "output_type": "stream",
     "text": [
      "Number of rows = 19264\n",
      "Number of columns = 34\n"
     ]
    }
   ],
   "source": [
    "# Number of rows\n",
    "print(\"Number of rows = {0}\".format(data.shape[0]))\n",
    "\n",
    "# Number of columns\n",
    "print(\"Number of columns = {0}\".format(data.shape[1]))"
   ]
  },
  {
   "cell_type": "markdown",
   "metadata": {},
   "source": [
    "We see that there are 19,264 rows and 34 columns. Now we are going to how our data looks like."
   ]
  },
  {
   "cell_type": "code",
   "execution_count": 4,
   "metadata": {},
   "outputs": [
    {
     "data": {
      "text/html": [
       "<div>\n",
       "<style scoped>\n",
       "    .dataframe tbody tr th:only-of-type {\n",
       "        vertical-align: middle;\n",
       "    }\n",
       "\n",
       "    .dataframe tbody tr th {\n",
       "        vertical-align: top;\n",
       "    }\n",
       "\n",
       "    .dataframe thead th {\n",
       "        text-align: right;\n",
       "    }\n",
       "</style>\n",
       "<table border=\"1\" class=\"dataframe\">\n",
       "  <thead>\n",
       "    <tr style=\"text-align: right;\">\n",
       "      <th></th>\n",
       "      <th>Campaign ID</th>\n",
       "      <th>Campaign name</th>\n",
       "      <th>Ad set ID</th>\n",
       "      <th>Ad set name</th>\n",
       "      <th>Ad ID</th>\n",
       "      <th>Ad name</th>\n",
       "      <th>Age</th>\n",
       "      <th>Gender</th>\n",
       "      <th>Delivery status</th>\n",
       "      <th>Delivery level</th>\n",
       "      <th>...</th>\n",
       "      <th>Cost per 1,000 people reached</th>\n",
       "      <th>CPM (cost per 1,000 impressions)</th>\n",
       "      <th>Cost per unique link click</th>\n",
       "      <th>Cost per outbound click</th>\n",
       "      <th>Cost per unique click (all)</th>\n",
       "      <th>Unique CTR (all)</th>\n",
       "      <th>Unique clicks (all)</th>\n",
       "      <th>Unique link clicks</th>\n",
       "      <th>Reporting starts</th>\n",
       "      <th>Reporting ends</th>\n",
       "    </tr>\n",
       "  </thead>\n",
       "  <tbody>\n",
       "    <tr>\n",
       "      <th>0</th>\n",
       "      <td>NaN</td>\n",
       "      <td>NaN</td>\n",
       "      <td>NaN</td>\n",
       "      <td>NaN</td>\n",
       "      <td>NaN</td>\n",
       "      <td>NaN</td>\n",
       "      <td>NaN</td>\n",
       "      <td>NaN</td>\n",
       "      <td>NaN</td>\n",
       "      <td>NaN</td>\n",
       "      <td>...</td>\n",
       "      <td>146.440992</td>\n",
       "      <td>47.705875</td>\n",
       "      <td>5.864373</td>\n",
       "      <td>4.752498</td>\n",
       "      <td>5.297344</td>\n",
       "      <td>2.764423</td>\n",
       "      <td>9246</td>\n",
       "      <td>8352.0</td>\n",
       "      <td>2018-09-15</td>\n",
       "      <td>2018-10-11</td>\n",
       "    </tr>\n",
       "    <tr>\n",
       "      <th>1</th>\n",
       "      <td>2.384294e+16</td>\n",
       "      <td>Yesbank_int-prof</td>\n",
       "      <td>All</td>\n",
       "      <td>All</td>\n",
       "      <td>All</td>\n",
       "      <td>All</td>\n",
       "      <td>All</td>\n",
       "      <td>All</td>\n",
       "      <td>inactive</td>\n",
       "      <td>campaign</td>\n",
       "      <td>...</td>\n",
       "      <td>134.675275</td>\n",
       "      <td>49.175297</td>\n",
       "      <td>6.212941</td>\n",
       "      <td>5.148600</td>\n",
       "      <td>5.565810</td>\n",
       "      <td>2.419689</td>\n",
       "      <td>5146</td>\n",
       "      <td>4610.0</td>\n",
       "      <td>2018-09-15</td>\n",
       "      <td>2018-10-11</td>\n",
       "    </tr>\n",
       "    <tr>\n",
       "      <th>2</th>\n",
       "      <td>2.384294e+16</td>\n",
       "      <td>Yesbank_int-prof</td>\n",
       "      <td>23842941639670506</td>\n",
       "      <td>s1#occ#doc-a#yth-loc#beng-rs#m-s2#int#otbnj</td>\n",
       "      <td>All</td>\n",
       "      <td>All</td>\n",
       "      <td>All</td>\n",
       "      <td>All</td>\n",
       "      <td>not_delivering</td>\n",
       "      <td>adset</td>\n",
       "      <td>...</td>\n",
       "      <td>111.588976</td>\n",
       "      <td>52.024112</td>\n",
       "      <td>4.099500</td>\n",
       "      <td>3.526452</td>\n",
       "      <td>3.813488</td>\n",
       "      <td>2.926165</td>\n",
       "      <td>86</td>\n",
       "      <td>80.0</td>\n",
       "      <td>2018-09-15</td>\n",
       "      <td>2018-10-11</td>\n",
       "    </tr>\n",
       "    <tr>\n",
       "      <th>3</th>\n",
       "      <td>2.384294e+16</td>\n",
       "      <td>Yesbank_int-prof</td>\n",
       "      <td>23842941639670506</td>\n",
       "      <td>s1#occ#doc-a#yth-loc#beng-rs#m-s2#int#otbnj</td>\n",
       "      <td>23842941641340506</td>\n",
       "      <td>s1#occ#doc-a#yth-loc#beng-rs#m-s2#int#otbnj</td>\n",
       "      <td>All</td>\n",
       "      <td>All</td>\n",
       "      <td>not_delivering</td>\n",
       "      <td>ad</td>\n",
       "      <td>...</td>\n",
       "      <td>111.588976</td>\n",
       "      <td>52.024112</td>\n",
       "      <td>4.099500</td>\n",
       "      <td>3.526452</td>\n",
       "      <td>3.813488</td>\n",
       "      <td>2.926165</td>\n",
       "      <td>86</td>\n",
       "      <td>80.0</td>\n",
       "      <td>2018-09-15</td>\n",
       "      <td>2018-10-11</td>\n",
       "    </tr>\n",
       "    <tr>\n",
       "      <th>4</th>\n",
       "      <td>2.384294e+16</td>\n",
       "      <td>Yesbank_int-prof</td>\n",
       "      <td>23842941639670506</td>\n",
       "      <td>s1#occ#doc-a#yth-loc#beng-rs#m-s2#int#otbnj</td>\n",
       "      <td>23842941641340506</td>\n",
       "      <td>s1#occ#doc-a#yth-loc#beng-rs#m-s2#int#otbnj</td>\n",
       "      <td>25-34</td>\n",
       "      <td>All</td>\n",
       "      <td>NaN</td>\n",
       "      <td>NaN</td>\n",
       "      <td>...</td>\n",
       "      <td>117.791134</td>\n",
       "      <td>58.391061</td>\n",
       "      <td>4.750909</td>\n",
       "      <td>3.919500</td>\n",
       "      <td>4.479429</td>\n",
       "      <td>2.629602</td>\n",
       "      <td>35</td>\n",
       "      <td>33.0</td>\n",
       "      <td>2018-09-15</td>\n",
       "      <td>2018-10-11</td>\n",
       "    </tr>\n",
       "  </tbody>\n",
       "</table>\n",
       "<p>5 rows × 34 columns</p>\n",
       "</div>"
      ],
      "text/plain": [
       "    Campaign ID     Campaign name          Ad set ID  \\\n",
       "0           NaN               NaN                NaN   \n",
       "1  2.384294e+16  Yesbank_int-prof                All   \n",
       "2  2.384294e+16  Yesbank_int-prof  23842941639670506   \n",
       "3  2.384294e+16  Yesbank_int-prof  23842941639670506   \n",
       "4  2.384294e+16  Yesbank_int-prof  23842941639670506   \n",
       "\n",
       "                                   Ad set name              Ad ID  \\\n",
       "0                                          NaN                NaN   \n",
       "1                                          All                All   \n",
       "2  s1#occ#doc-a#yth-loc#beng-rs#m-s2#int#otbnj                All   \n",
       "3  s1#occ#doc-a#yth-loc#beng-rs#m-s2#int#otbnj  23842941641340506   \n",
       "4  s1#occ#doc-a#yth-loc#beng-rs#m-s2#int#otbnj  23842941641340506   \n",
       "\n",
       "                                       Ad name    Age Gender Delivery status  \\\n",
       "0                                          NaN    NaN    NaN             NaN   \n",
       "1                                          All    All    All        inactive   \n",
       "2                                          All    All    All  not_delivering   \n",
       "3  s1#occ#doc-a#yth-loc#beng-rs#m-s2#int#otbnj    All    All  not_delivering   \n",
       "4  s1#occ#doc-a#yth-loc#beng-rs#m-s2#int#otbnj  25-34    All             NaN   \n",
       "\n",
       "  Delivery level       ...       Cost per 1,000 people reached  \\\n",
       "0            NaN       ...                          146.440992   \n",
       "1       campaign       ...                          134.675275   \n",
       "2          adset       ...                          111.588976   \n",
       "3             ad       ...                          111.588976   \n",
       "4            NaN       ...                          117.791134   \n",
       "\n",
       "   CPM (cost per 1,000 impressions)  Cost per unique link click  \\\n",
       "0                         47.705875                    5.864373   \n",
       "1                         49.175297                    6.212941   \n",
       "2                         52.024112                    4.099500   \n",
       "3                         52.024112                    4.099500   \n",
       "4                         58.391061                    4.750909   \n",
       "\n",
       "   Cost per outbound click  Cost per unique click (all)  Unique CTR (all)  \\\n",
       "0                 4.752498                     5.297344          2.764423   \n",
       "1                 5.148600                     5.565810          2.419689   \n",
       "2                 3.526452                     3.813488          2.926165   \n",
       "3                 3.526452                     3.813488          2.926165   \n",
       "4                 3.919500                     4.479429          2.629602   \n",
       "\n",
       "   Unique clicks (all)  Unique link clicks  Reporting starts  Reporting ends  \n",
       "0                 9246              8352.0        2018-09-15      2018-10-11  \n",
       "1                 5146              4610.0        2018-09-15      2018-10-11  \n",
       "2                   86                80.0        2018-09-15      2018-10-11  \n",
       "3                   86                80.0        2018-09-15      2018-10-11  \n",
       "4                   35                33.0        2018-09-15      2018-10-11  \n",
       "\n",
       "[5 rows x 34 columns]"
      ]
     },
     "execution_count": 4,
     "metadata": {},
     "output_type": "execute_result"
    }
   ],
   "source": [
    "# Head of the data\n",
    "data.head()"
   ]
  },
  {
   "cell_type": "markdown",
   "metadata": {},
   "source": [
    "From the above table we see that there are both categorical and numerical features."
   ]
  },
  {
   "cell_type": "markdown",
   "metadata": {},
   "source": [
    "## 4. Statistical Description of the data"
   ]
  },
  {
   "cell_type": "code",
   "execution_count": 5,
   "metadata": {},
   "outputs": [
    {
     "data": {
      "text/html": [
       "<div>\n",
       "<style scoped>\n",
       "    .dataframe tbody tr th:only-of-type {\n",
       "        vertical-align: middle;\n",
       "    }\n",
       "\n",
       "    .dataframe tbody tr th {\n",
       "        vertical-align: top;\n",
       "    }\n",
       "\n",
       "    .dataframe thead th {\n",
       "        text-align: right;\n",
       "    }\n",
       "</style>\n",
       "<table border=\"1\" class=\"dataframe\">\n",
       "  <thead>\n",
       "    <tr style=\"text-align: right;\">\n",
       "      <th></th>\n",
       "      <th>Campaign ID</th>\n",
       "      <th>Results</th>\n",
       "      <th>Reach</th>\n",
       "      <th>Impressions</th>\n",
       "      <th>Cost per result</th>\n",
       "      <th>Amount spent (INR)</th>\n",
       "      <th>Relevance score</th>\n",
       "      <th>Link clicks</th>\n",
       "      <th>Website purchases</th>\n",
       "      <th>Result rate</th>\n",
       "      <th>...</th>\n",
       "      <th>CPC (all)</th>\n",
       "      <th>CTR (all)</th>\n",
       "      <th>Cost per 1,000 people reached</th>\n",
       "      <th>CPM (cost per 1,000 impressions)</th>\n",
       "      <th>Cost per unique link click</th>\n",
       "      <th>Cost per outbound click</th>\n",
       "      <th>Cost per unique click (all)</th>\n",
       "      <th>Unique CTR (all)</th>\n",
       "      <th>Unique clicks (all)</th>\n",
       "      <th>Unique link clicks</th>\n",
       "    </tr>\n",
       "  </thead>\n",
       "  <tbody>\n",
       "    <tr>\n",
       "      <th>count</th>\n",
       "      <td>1.926300e+04</td>\n",
       "      <td>6513.000000</td>\n",
       "      <td>19264.000000</td>\n",
       "      <td>1.926400e+04</td>\n",
       "      <td>6513.000000</td>\n",
       "      <td>19264.000000</td>\n",
       "      <td>406.000000</td>\n",
       "      <td>6514.000000</td>\n",
       "      <td>0.0</td>\n",
       "      <td>6513.000000</td>\n",
       "      <td>...</td>\n",
       "      <td>6936.000000</td>\n",
       "      <td>8532.000000</td>\n",
       "      <td>19136.000000</td>\n",
       "      <td>19136.000000</td>\n",
       "      <td>6514.000000</td>\n",
       "      <td>6514.000000</td>\n",
       "      <td>6936.000000</td>\n",
       "      <td>8532.000000</td>\n",
       "      <td>19264.000000</td>\n",
       "      <td>6514.000000</td>\n",
       "    </tr>\n",
       "    <tr>\n",
       "      <th>mean</th>\n",
       "      <td>2.384294e+16</td>\n",
       "      <td>7.911869</td>\n",
       "      <td>174.327814</td>\n",
       "      <td>3.197753e+02</td>\n",
       "      <td>4.382047</td>\n",
       "      <td>15.255162</td>\n",
       "      <td>2.408867</td>\n",
       "      <td>9.492785</td>\n",
       "      <td>NaN</td>\n",
       "      <td>2.263508</td>\n",
       "      <td>...</td>\n",
       "      <td>4.349156</td>\n",
       "      <td>1.902954</td>\n",
       "      <td>77.918498</td>\n",
       "      <td>62.167429</td>\n",
       "      <td>4.648210</td>\n",
       "      <td>4.382104</td>\n",
       "      <td>4.564866</td>\n",
       "      <td>2.545579</td>\n",
       "      <td>3.095100</td>\n",
       "      <td>8.395302</td>\n",
       "    </tr>\n",
       "    <tr>\n",
       "      <th>std</th>\n",
       "      <td>1.164333e+09</td>\n",
       "      <td>90.929279</td>\n",
       "      <td>3015.782383</td>\n",
       "      <td>9.098803e+03</td>\n",
       "      <td>3.243357</td>\n",
       "      <td>434.524542</td>\n",
       "      <td>0.530846</td>\n",
       "      <td>156.675712</td>\n",
       "      <td>NaN</td>\n",
       "      <td>4.105930</td>\n",
       "      <td>...</td>\n",
       "      <td>3.352729</td>\n",
       "      <td>4.211804</td>\n",
       "      <td>50.984545</td>\n",
       "      <td>42.381048</td>\n",
       "      <td>3.387313</td>\n",
       "      <td>3.243111</td>\n",
       "      <td>3.468642</td>\n",
       "      <td>5.236391</td>\n",
       "      <td>82.007942</td>\n",
       "      <td>127.378631</td>\n",
       "    </tr>\n",
       "    <tr>\n",
       "      <th>min</th>\n",
       "      <td>2.384294e+16</td>\n",
       "      <td>1.000000</td>\n",
       "      <td>1.000000</td>\n",
       "      <td>1.000000e+00</td>\n",
       "      <td>0.010000</td>\n",
       "      <td>0.000000</td>\n",
       "      <td>1.000000</td>\n",
       "      <td>1.000000</td>\n",
       "      <td>NaN</td>\n",
       "      <td>0.134771</td>\n",
       "      <td>...</td>\n",
       "      <td>0.010000</td>\n",
       "      <td>0.000000</td>\n",
       "      <td>0.000000</td>\n",
       "      <td>0.000000</td>\n",
       "      <td>0.010000</td>\n",
       "      <td>0.010000</td>\n",
       "      <td>0.010000</td>\n",
       "      <td>0.000000</td>\n",
       "      <td>0.000000</td>\n",
       "      <td>1.000000</td>\n",
       "    </tr>\n",
       "    <tr>\n",
       "      <th>25%</th>\n",
       "      <td>2.384294e+16</td>\n",
       "      <td>1.000000</td>\n",
       "      <td>6.000000</td>\n",
       "      <td>7.000000e+00</td>\n",
       "      <td>2.310000</td>\n",
       "      <td>0.410000</td>\n",
       "      <td>2.000000</td>\n",
       "      <td>1.000000</td>\n",
       "      <td>NaN</td>\n",
       "      <td>0.897666</td>\n",
       "      <td>...</td>\n",
       "      <td>2.291250</td>\n",
       "      <td>0.598802</td>\n",
       "      <td>54.099650</td>\n",
       "      <td>39.549825</td>\n",
       "      <td>2.480000</td>\n",
       "      <td>2.310000</td>\n",
       "      <td>2.440000</td>\n",
       "      <td>0.821694</td>\n",
       "      <td>0.000000</td>\n",
       "      <td>1.000000</td>\n",
       "    </tr>\n",
       "    <tr>\n",
       "      <th>50%</th>\n",
       "      <td>2.384294e+16</td>\n",
       "      <td>2.000000</td>\n",
       "      <td>24.000000</td>\n",
       "      <td>3.000000e+01</td>\n",
       "      <td>3.776667</td>\n",
       "      <td>1.850000</td>\n",
       "      <td>2.000000</td>\n",
       "      <td>2.000000</td>\n",
       "      <td>NaN</td>\n",
       "      <td>1.315789</td>\n",
       "      <td>...</td>\n",
       "      <td>3.647083</td>\n",
       "      <td>1.144165</td>\n",
       "      <td>70.909463</td>\n",
       "      <td>54.760274</td>\n",
       "      <td>4.062500</td>\n",
       "      <td>3.778333</td>\n",
       "      <td>3.873309</td>\n",
       "      <td>1.612903</td>\n",
       "      <td>0.000000</td>\n",
       "      <td>2.000000</td>\n",
       "    </tr>\n",
       "    <tr>\n",
       "      <th>75%</th>\n",
       "      <td>2.384294e+16</td>\n",
       "      <td>7.000000</td>\n",
       "      <td>86.000000</td>\n",
       "      <td>1.120000e+02</td>\n",
       "      <td>5.500000</td>\n",
       "      <td>6.350000</td>\n",
       "      <td>3.000000</td>\n",
       "      <td>7.000000</td>\n",
       "      <td>NaN</td>\n",
       "      <td>2.205882</td>\n",
       "      <td>...</td>\n",
       "      <td>5.310000</td>\n",
       "      <td>1.960784</td>\n",
       "      <td>90.000000</td>\n",
       "      <td>75.000000</td>\n",
       "      <td>5.810682</td>\n",
       "      <td>5.499500</td>\n",
       "      <td>5.550000</td>\n",
       "      <td>2.666667</td>\n",
       "      <td>1.000000</td>\n",
       "      <td>6.000000</td>\n",
       "    </tr>\n",
       "    <tr>\n",
       "      <th>max</th>\n",
       "      <td>2.384295e+16</td>\n",
       "      <td>5563.000000</td>\n",
       "      <td>334464.000000</td>\n",
       "      <td>1.026692e+06</td>\n",
       "      <td>29.150000</td>\n",
       "      <td>48979.240000</td>\n",
       "      <td>4.000000</td>\n",
       "      <td>10306.000000</td>\n",
       "      <td>NaN</td>\n",
       "      <td>100.000000</td>\n",
       "      <td>...</td>\n",
       "      <td>30.276879</td>\n",
       "      <td>100.000000</td>\n",
       "      <td>1212.500000</td>\n",
       "      <td>1212.500000</td>\n",
       "      <td>29.940000</td>\n",
       "      <td>29.150000</td>\n",
       "      <td>30.276879</td>\n",
       "      <td>100.000000</td>\n",
       "      <td>9246.000000</td>\n",
       "      <td>8352.000000</td>\n",
       "    </tr>\n",
       "  </tbody>\n",
       "</table>\n",
       "<p>8 rows × 22 columns</p>\n",
       "</div>"
      ],
      "text/plain": [
       "        Campaign ID      Results          Reach   Impressions  \\\n",
       "count  1.926300e+04  6513.000000   19264.000000  1.926400e+04   \n",
       "mean   2.384294e+16     7.911869     174.327814  3.197753e+02   \n",
       "std    1.164333e+09    90.929279    3015.782383  9.098803e+03   \n",
       "min    2.384294e+16     1.000000       1.000000  1.000000e+00   \n",
       "25%    2.384294e+16     1.000000       6.000000  7.000000e+00   \n",
       "50%    2.384294e+16     2.000000      24.000000  3.000000e+01   \n",
       "75%    2.384294e+16     7.000000      86.000000  1.120000e+02   \n",
       "max    2.384295e+16  5563.000000  334464.000000  1.026692e+06   \n",
       "\n",
       "       Cost per result  Amount spent (INR)  Relevance score   Link clicks  \\\n",
       "count      6513.000000        19264.000000       406.000000   6514.000000   \n",
       "mean          4.382047           15.255162         2.408867      9.492785   \n",
       "std           3.243357          434.524542         0.530846    156.675712   \n",
       "min           0.010000            0.000000         1.000000      1.000000   \n",
       "25%           2.310000            0.410000         2.000000      1.000000   \n",
       "50%           3.776667            1.850000         2.000000      2.000000   \n",
       "75%           5.500000            6.350000         3.000000      7.000000   \n",
       "max          29.150000        48979.240000         4.000000  10306.000000   \n",
       "\n",
       "       Website purchases  Result rate         ...            CPC (all)  \\\n",
       "count                0.0  6513.000000         ...          6936.000000   \n",
       "mean                 NaN     2.263508         ...             4.349156   \n",
       "std                  NaN     4.105930         ...             3.352729   \n",
       "min                  NaN     0.134771         ...             0.010000   \n",
       "25%                  NaN     0.897666         ...             2.291250   \n",
       "50%                  NaN     1.315789         ...             3.647083   \n",
       "75%                  NaN     2.205882         ...             5.310000   \n",
       "max                  NaN   100.000000         ...            30.276879   \n",
       "\n",
       "         CTR (all)  Cost per 1,000 people reached  \\\n",
       "count  8532.000000                   19136.000000   \n",
       "mean      1.902954                      77.918498   \n",
       "std       4.211804                      50.984545   \n",
       "min       0.000000                       0.000000   \n",
       "25%       0.598802                      54.099650   \n",
       "50%       1.144165                      70.909463   \n",
       "75%       1.960784                      90.000000   \n",
       "max     100.000000                    1212.500000   \n",
       "\n",
       "       CPM (cost per 1,000 impressions)  Cost per unique link click  \\\n",
       "count                      19136.000000                 6514.000000   \n",
       "mean                          62.167429                    4.648210   \n",
       "std                           42.381048                    3.387313   \n",
       "min                            0.000000                    0.010000   \n",
       "25%                           39.549825                    2.480000   \n",
       "50%                           54.760274                    4.062500   \n",
       "75%                           75.000000                    5.810682   \n",
       "max                         1212.500000                   29.940000   \n",
       "\n",
       "       Cost per outbound click  Cost per unique click (all)  Unique CTR (all)  \\\n",
       "count              6514.000000                  6936.000000       8532.000000   \n",
       "mean                  4.382104                     4.564866          2.545579   \n",
       "std                   3.243111                     3.468642          5.236391   \n",
       "min                   0.010000                     0.010000          0.000000   \n",
       "25%                   2.310000                     2.440000          0.821694   \n",
       "50%                   3.778333                     3.873309          1.612903   \n",
       "75%                   5.499500                     5.550000          2.666667   \n",
       "max                  29.150000                    30.276879        100.000000   \n",
       "\n",
       "       Unique clicks (all)  Unique link clicks  \n",
       "count         19264.000000         6514.000000  \n",
       "mean              3.095100            8.395302  \n",
       "std              82.007942          127.378631  \n",
       "min               0.000000            1.000000  \n",
       "25%               0.000000            1.000000  \n",
       "50%               0.000000            2.000000  \n",
       "75%               1.000000            6.000000  \n",
       "max            9246.000000         8352.000000  \n",
       "\n",
       "[8 rows x 22 columns]"
      ]
     },
     "execution_count": 5,
     "metadata": {},
     "output_type": "execute_result"
    }
   ],
   "source": [
    "# Below is the statistical description of the data\n",
    "\n",
    "data.describe()"
   ]
  },
  {
   "cell_type": "markdown",
   "metadata": {},
   "source": [
    "## 5. Percentage of null values"
   ]
  },
  {
   "cell_type": "code",
   "execution_count": 6,
   "metadata": {},
   "outputs": [
    {
     "data": {
      "text/plain": [
       "Text(0.5, 1.0, '% Missing values')"
      ]
     },
     "execution_count": 6,
     "metadata": {},
     "output_type": "execute_result"
    },
    {
     "data": {
      "image/png": "[encoded data removed]",
      "text/plain": [
       "<Figure size 1080x720 with 1 Axes>"
      ]
     },
     "metadata": {
      "needs_background": "light"
     },
     "output_type": "display_data"
    }
   ],
   "source": [
    "# Graph showing % of null values\n",
    "\n",
    "plt.figure(figsize=(15,10))\n",
    "missing_val_percentage = ((data.isnull().sum() / data.shape[0])*100).sort_values()\n",
    "missing_val_percentage.plot(kind = \"barh\", color = \"blue\")\n",
    "plt.axvline(x = 80)\n",
    "plt.xlabel(\"% missing values\", size = 14)\n",
    "plt.ylabel(\"Column Names\", size = 14)\n",
    "plt.title(\"% Missing values\", size = 18)"
   ]
  },
  {
   "cell_type": "markdown",
   "metadata": {},
   "source": [
    "From the above plot we see that four columns have greater than 80% of missing values. These are -\n",
    "1. Website purchases\n",
    "2. Relevance score\n",
    "3. Delivery status\n",
    "4. Delivery level\n",
    "\n",
    "These parameters are defined below -\n",
    "\n",
    "1. Website purchases-\n",
    "The total return on ads spend from website purchases.\n",
    "\n",
    "2. Relevance Score-\n",
    "A rating from 1 to 10 that estimates how well your target audience is responding to your ad. This score is shown after your ad receives more than 500 impressions. It's only visible when looking at reporting for ads and does not appear for ad sets and campaigns. This field is currently only visible at the ad level.\n",
    "\n",
    "3. Delivery Status-\n",
    "Status of the ad delivery.\n",
    "\n",
    "4. Delivery Level-\n",
    "Level of the delivery, if its a campaign, adset or single ad."
   ]
  },
  {
   "cell_type": "markdown",
   "metadata": {},
   "source": [
    "## 6. Categorical and Continous features"
   ]
  },
  {
   "cell_type": "markdown",
   "metadata": {},
   "source": [
    "There are 11 categorical features, 2 features of type date, and rest are continous features."
   ]
  },
  {
   "cell_type": "markdown",
   "metadata": {},
   "source": [
    "# Exploratory Data Analysis"
   ]
  },
  {
   "cell_type": "markdown",
   "metadata": {},
   "source": [
    "As we know we have 34 features in total, but only few of them are relevant, which are as follows-\n",
    "\n",
    "1. Reach-\n",
    "The number of people who saw your ads at least once. Reach is different from impressions, which may include multiple views of your ads by the same people.\n",
    "\n",
    "2. Impressions-\n",
    "The number of times the ads were on screen.\n",
    "\n",
    "3. Unique Clicks-\n",
    "The number of people who performed a click.\n",
    "\n",
    "4. Unique click through rate-\n",
    "The percentage of people who saw your ad and performed a unique click (all).\n",
    "\n",
    "5. Gender-\n",
    "Gender of the person.\n",
    "\n",
    "6. Age-Group-\n",
    "Age group to which a person belongs.\n",
    "\n",
    "So now we'll do our exploratory data analysis considering only the above mentioned features."
   ]
  },
  {
   "cell_type": "markdown",
   "metadata": {},
   "source": [
    "## 1. Univariate Analysis"
   ]
  },
  {
   "cell_type": "markdown",
   "metadata": {},
   "source": [
    "### 1.1. Reach"
   ]
  },
  {
   "cell_type": "markdown",
   "metadata": {},
   "source": [
    "First we examine the columns ad name and Reach together."
   ]
  },
  {
   "cell_type": "code",
   "execution_count": 7,
   "metadata": {},
   "outputs": [
    {
     "data": {
      "text/html": [
       "<div>\n",
       "<style scoped>\n",
       "    .dataframe tbody tr th:only-of-type {\n",
       "        vertical-align: middle;\n",
       "    }\n",
       "\n",
       "    .dataframe tbody tr th {\n",
       "        vertical-align: top;\n",
       "    }\n",
       "\n",
       "    .dataframe thead th {\n",
       "        text-align: right;\n",
       "    }\n",
       "</style>\n",
       "<table border=\"1\" class=\"dataframe\">\n",
       "  <thead>\n",
       "    <tr style=\"text-align: right;\">\n",
       "      <th></th>\n",
       "      <th>Ad name</th>\n",
       "      <th>Reach</th>\n",
       "    </tr>\n",
       "  </thead>\n",
       "  <tbody>\n",
       "    <tr>\n",
       "      <th>0</th>\n",
       "      <td>NaN</td>\n",
       "      <td>334464</td>\n",
       "    </tr>\n",
       "    <tr>\n",
       "      <th>1</th>\n",
       "      <td>All</td>\n",
       "      <td>212672</td>\n",
       "    </tr>\n",
       "    <tr>\n",
       "      <th>2</th>\n",
       "      <td>All</td>\n",
       "      <td>2939</td>\n",
       "    </tr>\n",
       "    <tr>\n",
       "      <th>3</th>\n",
       "      <td>s1#occ#doc-a#yth-loc#beng-rs#m-s2#int#otbnj</td>\n",
       "      <td>2939</td>\n",
       "    </tr>\n",
       "    <tr>\n",
       "      <th>4</th>\n",
       "      <td>s1#occ#doc-a#yth-loc#beng-rs#m-s2#int#otbnj</td>\n",
       "      <td>1331</td>\n",
       "    </tr>\n",
       "    <tr>\n",
       "      <th>5</th>\n",
       "      <td>s1#occ#doc-a#yth-loc#beng-rs#m-s2#int#otbnj</td>\n",
       "      <td>981</td>\n",
       "    </tr>\n",
       "    <tr>\n",
       "      <th>6</th>\n",
       "      <td>s1#occ#doc-a#yth-loc#beng-rs#m-s2#int#otbnj</td>\n",
       "      <td>348</td>\n",
       "    </tr>\n",
       "    <tr>\n",
       "      <th>7</th>\n",
       "      <td>s1#occ#doc-a#yth-loc#beng-rs#m-s2#int#otbnj</td>\n",
       "      <td>2</td>\n",
       "    </tr>\n",
       "    <tr>\n",
       "      <th>8</th>\n",
       "      <td>s1#occ#doc-a#yth-loc#beng-rs#m-s2#int#otbnj</td>\n",
       "      <td>1436</td>\n",
       "    </tr>\n",
       "    <tr>\n",
       "      <th>9</th>\n",
       "      <td>s1#occ#doc-a#yth-loc#beng-rs#m-s2#int#otbnj</td>\n",
       "      <td>1051</td>\n",
       "    </tr>\n",
       "  </tbody>\n",
       "</table>\n",
       "</div>"
      ],
      "text/plain": [
       "                                       Ad name   Reach\n",
       "0                                          NaN  334464\n",
       "1                                          All  212672\n",
       "2                                          All    2939\n",
       "3  s1#occ#doc-a#yth-loc#beng-rs#m-s2#int#otbnj    2939\n",
       "4  s1#occ#doc-a#yth-loc#beng-rs#m-s2#int#otbnj    1331\n",
       "5  s1#occ#doc-a#yth-loc#beng-rs#m-s2#int#otbnj     981\n",
       "6  s1#occ#doc-a#yth-loc#beng-rs#m-s2#int#otbnj     348\n",
       "7  s1#occ#doc-a#yth-loc#beng-rs#m-s2#int#otbnj       2\n",
       "8  s1#occ#doc-a#yth-loc#beng-rs#m-s2#int#otbnj    1436\n",
       "9  s1#occ#doc-a#yth-loc#beng-rs#m-s2#int#otbnj    1051"
      ]
     },
     "execution_count": 7,
     "metadata": {},
     "output_type": "execute_result"
    }
   ],
   "source": [
    "# Printing out column adname and Reach\n",
    "\n",
    "data[[\"Ad name\", \"Reach\"]].head(n=10)"
   ]
  },
  {
   "cell_type": "markdown",
   "metadata": {},
   "source": [
    "From the above table we see that, not all the rows in the column **Ad Name** has a represent a particular banner name. So we will take only those rows which have a value for Ad Name and which has a proper name."
   ]
  },
  {
   "cell_type": "code",
   "execution_count": 8,
   "metadata": {},
   "outputs": [],
   "source": [
    "# Cleaning the data for reach column\n",
    "\n",
    "Reach  = data[[\"Ad name\", \"Reach\"]].dropna()\n",
    "Reach = Reach[Reach[\"Ad name\"] != \"All\"]"
   ]
  },
  {
   "cell_type": "code",
   "execution_count": 9,
   "metadata": {},
   "outputs": [
    {
     "name": "stderr",
     "output_type": "stream",
     "text": [
      "C:\\Users\\amanlp7\\Miniconda3\\lib\\site-packages\\scipy\\stats\\stats.py:1713: FutureWarning: Using a non-tuple sequence for multidimensional indexing is deprecated; use `arr[tuple(seq)]` instead of `arr[seq]`. In the future this will be interpreted as an array index, `arr[np.array(seq)]`, which will result either in an error or a different result.\n",
      "  return np.add.reduce(sorted[indexer] * weights, axis=axis) / sumval\n"
     ]
    },
    {
     "data": {
      "text/plain": [
       "Text(0.5, 1.0, 'Density plot for Reach')"
      ]
     },
     "execution_count": 9,
     "metadata": {},
     "output_type": "execute_result"
    },
    {
     "data": {
      "image/png": "[encoded data removed]",
      "text/plain": [
       "<Figure size 720x360 with 1 Axes>"
      ]
     },
     "metadata": {
      "needs_background": "light"
     },
     "output_type": "display_data"
    }
   ],
   "source": [
    "# Plotting the density plot for Reach\n",
    "\n",
    "plt.figure(figsize=(10,5))\n",
    "sns.distplot(Reach.Reach, kde = True)\n",
    "'''plt.axvline(x = 21, color = \"red\")\n",
    "plt.text(115.761732,0.005,\"Mean = 115.761732\", rotation = 270)'''\n",
    "plt.xlabel(\"Reach\", size = 14)\n",
    "plt.ylabel(\"Density\", size = 14)\n",
    "plt.title(\"Density plot for Reach\")  "
   ]
  },
  {
   "cell_type": "markdown",
   "metadata": {},
   "source": [
    "From the above density plot we can clearly see that, the distribution is not normal. Its skewed towards right."
   ]
  },
  {
   "cell_type": "markdown",
   "metadata": {},
   "source": [
    "### 1.2. Impression"
   ]
  },
  {
   "cell_type": "code",
   "execution_count": 10,
   "metadata": {},
   "outputs": [
    {
     "data": {
      "text/plain": [
       "Text(0.5, 1.0, 'Density plot for Impressions')"
      ]
     },
     "execution_count": 10,
     "metadata": {},
     "output_type": "execute_result"
    },
    {
     "data": {
      "image/png": "[encoded data removed]",
      "text/plain": [
       "<Figure size 720x360 with 1 Axes>"
      ]
     },
     "metadata": {
      "needs_background": "light"
     },
     "output_type": "display_data"
    }
   ],
   "source": [
    "# Distribution of impression\n",
    "\n",
    "Impressions = data[[\"Ad name\", \"Impressions\"]].dropna()\n",
    "Impressions = Impressions[Impressions[\"Ad name\"] != \"All\"]\n",
    "\n",
    "plt.figure(figsize=(10,5))\n",
    "sns.distplot(Impressions.Impressions, kde = True)\n",
    "plt.xlabel(\"Impressions\", size = 14)\n",
    "plt.ylabel(\"Density\", size = 14)\n",
    "plt.title(\"Density plot for Impressions\")  "
   ]
  },
  {
   "cell_type": "markdown",
   "metadata": {},
   "source": [
    "We see that the distribution for Impressions is positively skewed."
   ]
  },
  {
   "cell_type": "markdown",
   "metadata": {},
   "source": [
    "### 1.3. Unique Clicks"
   ]
  },
  {
   "cell_type": "code",
   "execution_count": 11,
   "metadata": {},
   "outputs": [
    {
     "data": {
      "text/plain": [
       "Text(0.5, 1.0, 'Density plot for Unique clicks')"
      ]
     },
     "execution_count": 11,
     "metadata": {},
     "output_type": "execute_result"
    },
    {
     "data": {
      "image/png": "[encoded data removed]",
      "text/plain": [
       "<Figure size 720x360 with 1 Axes>"
      ]
     },
     "metadata": {
      "needs_background": "light"
     },
     "output_type": "display_data"
    }
   ],
   "source": [
    "# Distribution of Unique Clicks\n",
    "\n",
    "Unique_clicks = data[[\"Ad name\", \"Unique clicks (all)\"]].dropna()\n",
    "Unique_clicks = Unique_clicks[Unique_clicks[\"Ad name\"] != \"All\"]\n",
    "\n",
    "plt.figure(figsize=(10,5))\n",
    "sns.distplot(Unique_clicks[\"Unique clicks (all)\"], kde = True)\n",
    "plt.xlabel(\"Unique clicks\", size = 14)\n",
    "plt.ylabel(\"Density\", size = 14)\n",
    "plt.title(\"Density plot for Unique clicks\") "
   ]
  },
  {
   "cell_type": "markdown",
   "metadata": {},
   "source": [
    "We see that density plot for Unique Clicks is not normal, its skewed on the right, moreover it has two modes."
   ]
  },
  {
   "cell_type": "markdown",
   "metadata": {},
   "source": [
    "### 1.4. Unique CTR"
   ]
  },
  {
   "cell_type": "code",
   "execution_count": 12,
   "metadata": {},
   "outputs": [
    {
     "data": {
      "text/plain": [
       "Text(0.5, 1.0, 'Density plot for Unique CTR')"
      ]
     },
     "execution_count": 12,
     "metadata": {},
     "output_type": "execute_result"
    },
    {
     "data": {
      "image/png": "[encoded data removed]",
      "text/plain": [
       "<Figure size 720x360 with 1 Axes>"
      ]
     },
     "metadata": {
      "needs_background": "light"
     },
     "output_type": "display_data"
    }
   ],
   "source": [
    "# Distribution of Unique CTR\n",
    "\n",
    "Unique_CTR = data[[\"Ad name\", \"Unique CTR (all)\"]].dropna()\n",
    "Unique_CTR = Unique_CTR[Unique_CTR[\"Ad name\"] != \"All\"]\n",
    "\n",
    "plt.figure(figsize=(10,5))\n",
    "sns.distplot(Unique_CTR[\"Unique CTR (all)\"], kde = True)\n",
    "plt.xlabel(\"Unique CTR\", size = 14)\n",
    "plt.ylabel(\"Density\", size = 14)\n",
    "plt.title(\"Density plot for Unique CTR\") "
   ]
  },
  {
   "cell_type": "markdown",
   "metadata": {},
   "source": [
    "We see that Unique CTR has a sharp peak and after that it rapidly declines, the distribution is positively skewed."
   ]
  },
  {
   "cell_type": "markdown",
   "metadata": {},
   "source": [
    "### 1.5. Gender"
   ]
  },
  {
   "cell_type": "markdown",
   "metadata": {},
   "source": [
    "We know that gender is a factor variable, so we are going to plot a barchart for it."
   ]
  },
  {
   "cell_type": "code",
   "execution_count": 13,
   "metadata": {},
   "outputs": [
    {
     "data": {
      "text/plain": [
       "Text(0.5, 0, 'Number of ads targeted')"
      ]
     },
     "execution_count": 13,
     "metadata": {},
     "output_type": "execute_result"
    },
    {
     "data": {
      "image/png": "[encoded data removed]",
      "text/plain": [
       "<Figure size 720x360 with 1 Axes>"
      ]
     },
     "metadata": {
      "needs_background": "light"
     },
     "output_type": "display_data"
    }
   ],
   "source": [
    "# Bar chart for Gender\n",
    "\n",
    "Gender = data[[\"Ad name\", \"Gender\"]].dropna()\n",
    "Gender = Gender[Gender[\"Ad name\"] != \"All\"]\n",
    "\n",
    "(Gender.groupby(\"Gender\").count().sort_values(by = \"Ad name\").\n",
    " plot(kind = \"barh\", legend = False,figsize=(10,5)))\n",
    "plt.ylabel(\"Gender\", size = 12)\n",
    "plt.title(\"Number of ads targeted by gender\", size = 14)\n",
    "plt.xlabel(\"Number of ads targeted\", size = 12)"
   ]
  },
  {
   "cell_type": "markdown",
   "metadata": {},
   "source": [
    "### 1.6. Age-Group"
   ]
  },
  {
   "cell_type": "code",
   "execution_count": 14,
   "metadata": {},
   "outputs": [
    {
     "data": {
      "text/plain": [
       "Text(0.5, 0, 'Number of ads targeted')"
      ]
     },
     "execution_count": 14,
     "metadata": {},
     "output_type": "execute_result"
    },
    {
     "data": {
      "image/png": "[encoded data removed]",
      "text/plain": [
       "<Figure size 720x360 with 1 Axes>"
      ]
     },
     "metadata": {
      "needs_background": "light"
     },
     "output_type": "display_data"
    }
   ],
   "source": [
    "# Bar chart for age-group\n",
    "\n",
    "Age_group = data[[\"Ad name\", \"Age\"]].dropna()\n",
    "Age_group = Age_group[Age_group[\"Ad name\"] != \"All\"]\n",
    "\n",
    "(Age_group.groupby(\"Age\").count().sort_values(by = \"Ad name\").\n",
    " plot(kind = \"barh\", legend = False,figsize=(10,5)))\n",
    "plt.ylabel(\"Age\", size = 12)\n",
    "plt.title(\"Number of ads targeted by Age\", size = 14)\n",
    "plt.xlabel(\"Number of ads targeted\", size = 12)"
   ]
  },
  {
   "cell_type": "markdown",
   "metadata": {},
   "source": [
    "From the above plot we can infer that most of the people who are targeted by this ad are in the age group of 18 to 34."
   ]
  },
  {
   "cell_type": "markdown",
   "metadata": {},
   "source": [
    "## 2. Multivariate Analysis"
   ]
  },
  {
   "cell_type": "markdown",
   "metadata": {},
   "source": [
    "Now that we have done univaraiate analysis, we are going to do multivariate analysis to answer specific questions that we have. We will be dropping the rows with null values."
   ]
  },
  {
   "cell_type": "markdown",
   "metadata": {},
   "source": [
    "### 2.1. Median impressions by age group"
   ]
  },
  {
   "cell_type": "code",
   "execution_count": 15,
   "metadata": {},
   "outputs": [
    {
     "data": {
      "text/plain": [
       "Text(0.5, 0, 'Median Impressions')"
      ]
     },
     "execution_count": 15,
     "metadata": {},
     "output_type": "execute_result"
    },
    {
     "data": {
      "image/png": "[encoded data removed]",
      "text/plain": [
       "<Figure size 432x288 with 1 Axes>"
      ]
     },
     "metadata": {
      "needs_background": "light"
     },
     "output_type": "display_data"
    }
   ],
   "source": [
    "# Median impression by age\n",
    "\n",
    "Impression_by_age = data[[\"Ad name\", \"Age\", \"Impressions\"]].dropna()\n",
    "Impression_by_age = (Impression_by_age[(\n",
    "    Impression_by_age[\"Ad name\"] != \"All\") & (Impression_by_age[\"Age\"] != \"All\")])\n",
    "Impression_by_age = Impression_by_age[[\"Age\", \"Impressions\"]].groupby(\"Age\").median()\n",
    "Impression_by_age.sort_values(\"Impressions\").plot(kind = \"barh\", legend = False)\n",
    "plt.title(\"Median impressions by age\", size = 18) \n",
    "plt.xlabel(\"Median Impressions\")"
   ]
  },
  {
   "cell_type": "raw",
   "metadata": {},
   "source": [
    "From the above plot we see that, median impression for the age group of 25-34 is more than all the other age groups."
   ]
  },
  {
   "cell_type": "markdown",
   "metadata": {},
   "source": [
    "### 2.2. Median impressions by gender"
   ]
  },
  {
   "cell_type": "code",
   "execution_count": 16,
   "metadata": {},
   "outputs": [
    {
     "data": {
      "text/plain": [
       "Text(0.5, 0, 'Median Impressions')"
      ]
     },
     "execution_count": 16,
     "metadata": {},
     "output_type": "execute_result"
    },
    {
     "data": {
      "image/png": "[encoded data removed]",
      "text/plain": [
       "<Figure size 432x288 with 1 Axes>"
      ]
     },
     "metadata": {
      "needs_background": "light"
     },
     "output_type": "display_data"
    }
   ],
   "source": [
    "# Median impression by gender\n",
    "\n",
    "Impression_by_gender = data[[\"Ad name\", \"Gender\", \"Impressions\"]].dropna()\n",
    "Impression_by_gender = (Impression_by_gender[(\n",
    "    Impression_by_gender[\"Ad name\"] != \"All\") & (Impression_by_gender[\"Gender\"] != \"All\")])\n",
    "Impression_by_gender = Impression_by_gender[[\"Gender\", \"Impressions\"]].groupby(\"Gender\").median()\n",
    "Impression_by_gender.sort_values(\"Impressions\").plot(kind = \"barh\", legend = False)\n",
    "plt.title(\"Median impressions by Gender\", size = 18) \n",
    "plt.xlabel(\"Median Impressions\")"
   ]
  },
  {
   "cell_type": "markdown",
   "metadata": {},
   "source": [
    "From the above plot we see that median impression for males is significantly higher than that in females, which suggests that most of the ads were targeted towards males than females, also that may be because of the skewed sex ratio."
   ]
  },
  {
   "cell_type": "markdown",
   "metadata": {},
   "source": [
    "### 2.3. Median impressions by age group and gender"
   ]
  },
  {
   "cell_type": "code",
   "execution_count": 17,
   "metadata": {},
   "outputs": [],
   "source": [
    "# Median impression by age faceted by gender\n",
    "\n",
    "Impressions_by_age_gender = data[[\"Ad name\", \"Age\", \"Impressions\", \"Gender\"]].dropna()\n",
    "Impressions_by_age_gender = (Impressions_by_age_gender[((\n",
    "    Impressions_by_age_gender[\"Ad name\"] != \"All\") & \n",
    "    (Impressions_by_age_gender[\"Age\"] != \"All\") & \n",
    "    (Impressions_by_age_gender[\"Gender\"] != \"unknown\"))])\n",
    "Impressions_by_age_gender = Impressions_by_age_gender.groupby([\"Gender\", \"Age\"]).median()\n",
    "Impressions_by_age_gender.reset_index(inplace=True)"
   ]
  },
  {
   "cell_type": "code",
   "execution_count": 18,
   "metadata": {},
   "outputs": [
    {
     "data": {
      "text/plain": [
       "Text(-0.6, 1.0, 'Median impressions by age and gender')"
      ]
     },
     "execution_count": 18,
     "metadata": {},
     "output_type": "execute_result"
    },
    {
     "data": {
      "image/png": "[encoded data removed]",
      "text/plain": [
       "<Figure size 1080x360 with 3 Axes>"
      ]
     },
     "metadata": {
      "needs_background": "light"
     },
     "output_type": "display_data"
    }
   ],
   "source": [
    "# Bar chart showing median impressions for all age groups faceted by gender\n",
    "\n",
    "sns.catplot(x = \"Age\", y = \"Impressions\", col = \"Gender\", data = Impressions_by_age_gender,\n",
    "           kind = \"bar\") \n",
    "plt.title(\"Median impressions by age and gender\", size = 18, x = -0.6, pad = 50.5) "
   ]
  },
  {
   "cell_type": "markdown",
   "metadata": {},
   "source": [
    "Here we have ignored the ads which are trageted towards the **unknown** gender, as median impressions for these, for all the age groups is 1.\n",
    "\n",
    "From the above plot we see that for all the both males and females, the median impressions is highest for the age group **25-34**, followed by **18-34**, while the median impression is least for the age group of **35-44**. For the aggregated data we see that the same trend continues."
   ]
  },
  {
   "cell_type": "markdown",
   "metadata": {},
   "source": [
    "### 2.4. Median unique CTR by age group"
   ]
  },
  {
   "cell_type": "code",
   "execution_count": 19,
   "metadata": {},
   "outputs": [
    {
     "data": {
      "text/plain": [
       "Text(0.5, 0, 'Median Unique CTR ')"
      ]
     },
     "execution_count": 19,
     "metadata": {},
     "output_type": "execute_result"
    },
    {
     "data": {
      "image/png": "[encoded data removed]",
      "text/plain": [
       "<Figure size 432x288 with 1 Axes>"
      ]
     },
     "metadata": {
      "needs_background": "light"
     },
     "output_type": "display_data"
    }
   ],
   "source": [
    "# Median unique CTR by age group\n",
    "\n",
    "unique_CTR_age = data[[\"Ad name\", \"Age\", \"Unique CTR (all)\"]].dropna()\n",
    "unique_CTR_age = (unique_CTR_age[(\n",
    "    unique_CTR_age[\"Ad name\"] != \"All\") & (unique_CTR_age[\"Age\"] != \"All\")])\n",
    "unique_CTR_age = unique_CTR_age[[\"Age\", \"Unique CTR (all)\"]].groupby(\"Age\").median()\n",
    "unique_CTR_age.sort_values(\"Unique CTR (all)\").plot(kind = \"barh\", legend = False)\n",
    "plt.title(\"Median Unique CTR by age\", size = 18) \n",
    "plt.xlabel(\"Median Unique CTR \")"
   ]
  },
  {
   "cell_type": "markdown",
   "metadata": {},
   "source": [
    "From the above bar chart we see that median unique click through rate is highest for the age group **35-44**, and almost same for the age groups **18-24** and **25-34**."
   ]
  },
  {
   "cell_type": "markdown",
   "metadata": {},
   "source": [
    "### 2.5. Median unique CTR by gender"
   ]
  },
  {
   "cell_type": "code",
   "execution_count": 20,
   "metadata": {},
   "outputs": [
    {
     "data": {
      "text/plain": [
       "Text(0.5, 0, 'Median Unique CTR ')"
      ]
     },
     "execution_count": 20,
     "metadata": {},
     "output_type": "execute_result"
    },
    {
     "data": {
      "image/png": "[encoded data removed]",
      "text/plain": [
       "<Figure size 432x288 with 1 Axes>"
      ]
     },
     "metadata": {
      "needs_background": "light"
     },
     "output_type": "display_data"
    }
   ],
   "source": [
    "# median unique CTR by gender\n",
    "\n",
    "unique_CTR_Gender = data[[\"Ad name\", \"Gender\", \"Unique CTR (all)\"]].dropna()\n",
    "unique_CTR_Gender = (unique_CTR_Gender[(\n",
    "    unique_CTR_Gender[\"Ad name\"] != \"All\") & (unique_CTR_Gender[\"Gender\"] != \"All\")])\n",
    "unique_CTR_Gender = unique_CTR_Gender[[\"Gender\", \"Unique CTR (all)\"]].groupby(\"Gender\").median()\n",
    "unique_CTR_Gender.sort_values(\"Unique CTR (all)\").plot(kind = \"barh\", legend = False)\n",
    "plt.title(\"Median Unique CTR by Gender\", size = 18) \n",
    "plt.xlabel(\"Median Unique CTR \")"
   ]
  },
  {
   "cell_type": "markdown",
   "metadata": {},
   "source": [
    "From the above plot we see that the median unique click through rate is highest for the unknown gender category, which suggests that proportion of people out of total people who actually visit a website, choose to not specify their gender, or they may not be provided with that option, during form filling. We can further examine the data for the people who have mentioned their gender as unknown."
   ]
  },
  {
   "cell_type": "code",
   "execution_count": 21,
   "metadata": {},
   "outputs": [
    {
     "data": {
      "text/html": [
       "<div>\n",
       "<style scoped>\n",
       "    .dataframe tbody tr th:only-of-type {\n",
       "        vertical-align: middle;\n",
       "    }\n",
       "\n",
       "    .dataframe tbody tr th {\n",
       "        vertical-align: top;\n",
       "    }\n",
       "\n",
       "    .dataframe thead th {\n",
       "        text-align: right;\n",
       "    }\n",
       "</style>\n",
       "<table border=\"1\" class=\"dataframe\">\n",
       "  <thead>\n",
       "    <tr style=\"text-align: right;\">\n",
       "      <th></th>\n",
       "      <th>Ad name</th>\n",
       "      <th>Gender</th>\n",
       "      <th>Unique CTR (all)</th>\n",
       "    </tr>\n",
       "  </thead>\n",
       "  <tbody>\n",
       "    <tr>\n",
       "      <th>227</th>\n",
       "      <td>s1#occ#doc-a#yth-loc#deh-rs#m-s2#int#spwrst</td>\n",
       "      <td>unknown</td>\n",
       "      <td>100.0</td>\n",
       "    </tr>\n",
       "    <tr>\n",
       "      <th>13421</th>\n",
       "      <td>s1#occ#mana-g#m-a#yth-loc#mum-rs#s-g#m-s2#int#...</td>\n",
       "      <td>unknown</td>\n",
       "      <td>25.0</td>\n",
       "    </tr>\n",
       "    <tr>\n",
       "      <th>16357</th>\n",
       "      <td>s1#occ#tch-g#m-a#yth-loc#vskpt-rs#s-g#m-s2#int...</td>\n",
       "      <td>unknown</td>\n",
       "      <td>100.0</td>\n",
       "    </tr>\n",
       "  </tbody>\n",
       "</table>\n",
       "</div>"
      ],
      "text/plain": [
       "                                                 Ad name   Gender  \\\n",
       "227          s1#occ#doc-a#yth-loc#deh-rs#m-s2#int#spwrst  unknown   \n",
       "13421  s1#occ#mana-g#m-a#yth-loc#mum-rs#s-g#m-s2#int#...  unknown   \n",
       "16357  s1#occ#tch-g#m-a#yth-loc#vskpt-rs#s-g#m-s2#int...  unknown   \n",
       "\n",
       "       Unique CTR (all)  \n",
       "227               100.0  \n",
       "13421              25.0  \n",
       "16357             100.0  "
      ]
     },
     "execution_count": 21,
     "metadata": {},
     "output_type": "execute_result"
    }
   ],
   "source": [
    "# Examining the unique CTR data for the people who have mentioned their\n",
    "# gender as unknown\n",
    "\n",
    "unique_CTR_Gender = data[[\"Ad name\", \"Gender\", \"Unique CTR (all)\"]].dropna()\n",
    "unique_CTR_Gender = (unique_CTR_Gender[(\n",
    "    unique_CTR_Gender[\"Ad name\"] != \"All\") & (unique_CTR_Gender[\"Gender\"] != \"All\")])\n",
    "unique_CTR_Gender[unique_CTR_Gender[\"Gender\"] == \"unknown\"]"
   ]
  },
  {
   "cell_type": "markdown",
   "metadata": {},
   "source": [
    "From the above table we see that there are only three rows where gender has been specified as unknown, and their unique click through rate is very high, so they can be considered as outliers, and can be omitted for future analysis."
   ]
  },
  {
   "cell_type": "markdown",
   "metadata": {},
   "source": [
    "### 2.6. Median unique CTR by age and gender"
   ]
  },
  {
   "cell_type": "code",
   "execution_count": 22,
   "metadata": {},
   "outputs": [],
   "source": [
    "# Median unique CTR by age and gender\n",
    "\n",
    "unique_CTR_by_age_gender = data[[\"Ad name\", \"Age\", \"Unique CTR (all)\", \"Gender\"]].dropna()\n",
    "unique_CTR_by_age_gender = (unique_CTR_by_age_gender[((\n",
    "    unique_CTR_by_age_gender[\"Ad name\"] != \"All\") & \n",
    "    (unique_CTR_by_age_gender[\"Age\"] != \"All\") & \n",
    "    (unique_CTR_by_age_gender[\"Gender\"] != \"unknown\"))])\n",
    "unique_CTR_by_age_gender = unique_CTR_by_age_gender.groupby([\"Gender\", \"Age\"]).median()\n",
    "unique_CTR_by_age_gender.reset_index(inplace=True)"
   ]
  },
  {
   "cell_type": "code",
   "execution_count": 23,
   "metadata": {},
   "outputs": [
    {
     "data": {
      "text/plain": [
       "Text(0.5, 1.2, 'Median Unique CTR by age and gender')"
      ]
     },
     "execution_count": 23,
     "metadata": {},
     "output_type": "execute_result"
    },
    {
     "data": {
      "image/png": "[encoded data removed]",
      "text/plain": [
       "<Figure size 1080x360 with 3 Axes>"
      ]
     },
     "metadata": {
      "needs_background": "light"
     },
     "output_type": "display_data"
    }
   ],
   "source": [
    "# Bar chart showing median unique CTR for all age groups faceted by gender\n",
    "\n",
    "sns.catplot(x = \"Age\", y = \"Unique CTR (all)\", col = \"Gender\", data = unique_CTR_by_age_gender,\n",
    "           kind = \"bar\") \n",
    "plt.suptitle(\"Median Unique CTR by age and gender\", size = 18, x = 0.5, y= 1.2) "
   ]
  },
  {
   "cell_type": "markdown",
   "metadata": {},
   "source": [
    "From the above plot we see that for all the genders median click through rate is highest for the age group of **35-44**."
   ]
  },
  {
   "cell_type": "markdown",
   "metadata": {},
   "source": [
    "### 2.7. Median reach by age"
   ]
  },
  {
   "cell_type": "code",
   "execution_count": 24,
   "metadata": {},
   "outputs": [
    {
     "data": {
      "text/plain": [
       "Text(0.5, 0, 'Median Reach')"
      ]
     },
     "execution_count": 24,
     "metadata": {},
     "output_type": "execute_result"
    },
    {
     "data": {
      "image/png": "[encoded data removed]",
      "text/plain": [
       "<Figure size 432x288 with 1 Axes>"
      ]
     },
     "metadata": {
      "needs_background": "light"
     },
     "output_type": "display_data"
    }
   ],
   "source": [
    "# Median reach by age\n",
    "\n",
    "Reach_by_age = data[[\"Ad name\", \"Age\", \"Reach\"]].dropna()\n",
    "Reach_by_age = (Reach_by_age[(\n",
    "    Reach_by_age[\"Ad name\"] != \"All\") & (Reach_by_age[\"Age\"] != \"All\")])\n",
    "Reach_by_age = Reach_by_age[[\"Age\", \"Reach\"]].groupby(\"Age\").median()\n",
    "Reach_by_age.sort_values(\"Reach\").plot(kind = \"barh\", legend = False)\n",
    "plt.title(\"Median Reach by age\", size = 18) \n",
    "plt.xlabel(\"Median Reach\")"
   ]
  },
  {
   "cell_type": "markdown",
   "metadata": {},
   "source": [
    "From the above plot we see that median reach by age is highest for the age group of **25-34**, and lowest for the age group of **35-44**."
   ]
  },
  {
   "cell_type": "markdown",
   "metadata": {},
   "source": [
    "### 2.8. Median reach by gender"
   ]
  },
  {
   "cell_type": "code",
   "execution_count": 25,
   "metadata": {},
   "outputs": [
    {
     "data": {
      "text/plain": [
       "Text(0.5, 0, 'Median Reach')"
      ]
     },
     "execution_count": 25,
     "metadata": {},
     "output_type": "execute_result"
    },
    {
     "data": {
      "image/png": "[encoded data removed]",
      "text/plain": [
       "<Figure size 432x288 with 1 Axes>"
      ]
     },
     "metadata": {
      "needs_background": "light"
     },
     "output_type": "display_data"
    }
   ],
   "source": [
    "# Median reach by gender\n",
    "\n",
    "Reach_by_Gender = data[[\"Ad name\", \"Gender\", \"Reach\"]].dropna()\n",
    "Reach_by_Gender = (Reach_by_Gender[(\n",
    "    Reach_by_Gender[\"Ad name\"] != \"All\") & (Reach_by_Gender[\"Gender\"] != \"All\")])\n",
    "Reach_by_Gender = Reach_by_Gender[[\"Gender\", \"Reach\"]].groupby(\"Gender\").median()\n",
    "Reach_by_Gender.sort_values(\"Reach\").plot(kind = \"barh\", legend = False)\n",
    "plt.title(\"Median Reach by Gender\", size = 18) \n",
    "plt.xlabel(\"Median Reach\")"
   ]
  },
  {
   "cell_type": "markdown",
   "metadata": {},
   "source": [
    "From the above plot we see that the median reach by gender in males is almost double than that in females."
   ]
  },
  {
   "cell_type": "markdown",
   "metadata": {},
   "source": [
    "### 2.9. Median reach by age and gender"
   ]
  },
  {
   "cell_type": "code",
   "execution_count": 26,
   "metadata": {},
   "outputs": [],
   "source": [
    "# Median reach by age and gender\n",
    "\n",
    "Reach_by_age_gender = data[[\"Ad name\", \"Age\", \"Reach\", \"Gender\"]].dropna()\n",
    "Reach_by_age_gender = (Reach_by_age_gender[((\n",
    "    Reach_by_age_gender[\"Ad name\"] != \"All\") & \n",
    "    (Reach_by_age_gender[\"Age\"] != \"All\") & \n",
    "    (Reach_by_age_gender[\"Gender\"] != \"unknown\"))])\n",
    "Reach_by_age_gender = Reach_by_age_gender.groupby([\"Gender\", \"Age\"]).median()\n",
    "Reach_by_age_gender.reset_index(inplace=True)"
   ]
  },
  {
   "cell_type": "code",
   "execution_count": 27,
   "metadata": {},
   "outputs": [
    {
     "data": {
      "text/plain": [
       "Text(0.5, 1.2, 'Median Reach by age and gender')"
      ]
     },
     "execution_count": 27,
     "metadata": {},
     "output_type": "execute_result"
    },
    {
     "data": {
      "image/png": "[encoded data removed]",
      "text/plain": [
       "<Figure size 1080x360 with 3 Axes>"
      ]
     },
     "metadata": {
      "needs_background": "light"
     },
     "output_type": "display_data"
    }
   ],
   "source": [
    "# Bar chart showing median reach for all age groups faceted by gender\n",
    "\n",
    "sns.catplot(x = \"Age\", y = \"Reach\", col = \"Gender\", data = Reach_by_age_gender,\n",
    "           kind = \"bar\") \n",
    "plt.suptitle(\"Median Reach by age and gender\", size = 18, x = 0.5, y= 1.2) "
   ]
  },
  {
   "cell_type": "markdown",
   "metadata": {},
   "source": [
    "From the above plot we see that for both the genders we have maximum median reach in the age group of **25-34**, and minimum for the age group of **35-44**."
   ]
  },
  {
   "cell_type": "markdown",
   "metadata": {},
   "source": [
    "### 2.10. Mean unique clicks by age"
   ]
  },
  {
   "cell_type": "markdown",
   "metadata": {},
   "source": [
    "For unique clicks we will be considering mean for each group as the median value is 0."
   ]
  },
  {
   "cell_type": "code",
   "execution_count": 28,
   "metadata": {},
   "outputs": [
    {
     "data": {
      "text/plain": [
       "Text(0.5, 0, 'Mean Unique clicks')"
      ]
     },
     "execution_count": 28,
     "metadata": {},
     "output_type": "execute_result"
    },
    {
     "data": {
      "image/png": "[encoded data removed]",
      "text/plain": [
       "<Figure size 432x288 with 1 Axes>"
      ]
     },
     "metadata": {
      "needs_background": "light"
     },
     "output_type": "display_data"
    }
   ],
   "source": [
    "# Mean unique clicks by age\n",
    "\n",
    "Unique_clicks_by_age = data[[\"Ad name\", \"Age\", \"Unique clicks (all)\"]].dropna()\n",
    "Unique_clicks_by_age = (Unique_clicks_by_age[(\n",
    "    Unique_clicks_by_age[\"Ad name\"] != \"All\") & (Unique_clicks_by_age[\"Age\"] != \"All\")])\n",
    "Unique_clicks_by_age = Unique_clicks_by_age[[\"Age\", \"Unique clicks (all)\"]].groupby(\"Age\").mean()\n",
    "Unique_clicks_by_age.sort_values(\"Unique clicks (all)\").plot(kind = \"barh\", legend = False)\n",
    "plt.title(\"Mean Unique clicks by age\", size = 18) \n",
    "plt.xlabel(\"Mean Unique clicks\")"
   ]
  },
  {
   "cell_type": "markdown",
   "metadata": {},
   "source": [
    "From the above plot we see that the mean number of unique clicks is highest for the age group of **25-34** and lowest for **35-44**."
   ]
  },
  {
   "cell_type": "markdown",
   "metadata": {},
   "source": [
    "### 2.11. Mean unique clicks by gender"
   ]
  },
  {
   "cell_type": "code",
   "execution_count": 29,
   "metadata": {},
   "outputs": [
    {
     "data": {
      "text/plain": [
       "Text(0.5, 0, 'Mean Unique clicks')"
      ]
     },
     "execution_count": 29,
     "metadata": {},
     "output_type": "execute_result"
    },
    {
     "data": {
      "image/png": "[encoded data removed]",
      "text/plain": [
       "<Figure size 432x288 with 1 Axes>"
      ]
     },
     "metadata": {
      "needs_background": "light"
     },
     "output_type": "display_data"
    }
   ],
   "source": [
    "# Mean unique clicks by gender\n",
    "\n",
    "Unique_clicks_by_gender = data[[\"Ad name\", \"Gender\", \"Unique clicks (all)\"]].dropna()\n",
    "Unique_clicks_by_gender = (Unique_clicks_by_gender[(\n",
    "    Unique_clicks_by_gender[\"Ad name\"] != \"All\") & (Unique_clicks_by_gender[\"Gender\"] != \"All\")])\n",
    "Unique_clicks_by_gender = Unique_clicks_by_gender[[\"Gender\", \"Unique clicks (all)\"]].groupby(\"Gender\").mean()\n",
    "Unique_clicks_by_gender.sort_values(\"Unique clicks (all)\").plot(kind = \"barh\", legend = False)\n",
    "plt.title(\"Mean Unique clicks by Gender\", size = 18) \n",
    "plt.xlabel(\"Mean Unique clicks\")"
   ]
  },
  {
   "cell_type": "markdown",
   "metadata": {},
   "source": [
    "From the above plot we see that mean unique clicks is more than than double in males than in females, and almost 0 for people who have not mentioned their gender, so we will discard the people in unknown category for future analysis."
   ]
  },
  {
   "cell_type": "markdown",
   "metadata": {},
   "source": [
    "### 2.12. Mean unique clicks by age and gender"
   ]
  },
  {
   "cell_type": "code",
   "execution_count": 30,
   "metadata": {},
   "outputs": [],
   "source": [
    "# Mean unique clicks by age and gender\n",
    "\n",
    "Unique_clicks_by_age_gender = data[[\"Ad name\", \"Age\", \"Unique clicks (all)\", \"Gender\"]].dropna()\n",
    "Unique_clicks_by_age_gender = (Unique_clicks_by_age_gender[((\n",
    "    Unique_clicks_by_age_gender[\"Ad name\"] != \"All\") & \n",
    "    (Unique_clicks_by_age_gender[\"Age\"] != \"All\") & \n",
    "    (Unique_clicks_by_age_gender[\"Gender\"] != \"unknown\"))])\n",
    "Unique_clicks_by_age_gender = Unique_clicks_by_age_gender.groupby([\"Gender\", \"Age\"]).mean()\n",
    "Unique_clicks_by_age_gender.reset_index(inplace=True)"
   ]
  },
  {
   "cell_type": "code",
   "execution_count": 31,
   "metadata": {},
   "outputs": [
    {
     "data": {
      "text/plain": [
       "Text(0.5, 1.2, 'Mean unique clicks by age and gender')"
      ]
     },
     "execution_count": 31,
     "metadata": {},
     "output_type": "execute_result"
    },
    {
     "data": {
      "image/png": "[encoded data removed]",
      "text/plain": [
       "<Figure size 1080x360 with 3 Axes>"
      ]
     },
     "metadata": {
      "needs_background": "light"
     },
     "output_type": "display_data"
    }
   ],
   "source": [
    "# Bar chart showing mean unique clicks for all age groups faceted by gender\n",
    "\n",
    "sns.catplot(x = \"Age\", y = \"Unique clicks (all)\", col = \"Gender\", data = Unique_clicks_by_age_gender,\n",
    "           kind = \"bar\") \n",
    "plt.suptitle(\"Mean unique clicks by age and gender\", size = 18, x = 0.5, y= 1.2) "
   ]
  },
  {
   "cell_type": "markdown",
   "metadata": {},
   "source": [
    "From the above plot we infer that the mean unique clicks is highest for the age group of **25-34**, and lowest for the age group of **35-44** for both males and females."
   ]
  },
  {
   "cell_type": "markdown",
   "metadata": {},
   "source": [
    "# Clustering"
   ]
  },
  {
   "cell_type": "markdown",
   "metadata": {},
   "source": [
    "For clustering we will only take the following features into consideration-\n",
    "\n",
    "1. Reach\n",
    "2. Impressions\n",
    "3. Unique CTR\n",
    "4. unique Clicks\n",
    "5. Age-Group\n",
    "6. Gender"
   ]
  },
  {
   "cell_type": "markdown",
   "metadata": {},
   "source": [
    "## 1. Preparing data for clustering"
   ]
  },
  {
   "cell_type": "markdown",
   "metadata": {},
   "source": [
    "First we need to prepare data for clustering. As we know that age group and gender are categorical variables, so first we need to dummify them, also we may need to standardise the numerical features if required. Also we know that **unique CTR** has nearly 60% missing values so we are going to discard it."
   ]
  },
  {
   "cell_type": "code",
   "execution_count": 32,
   "metadata": {},
   "outputs": [
    {
     "data": {
      "text/html": [
       "<div>\n",
       "<style scoped>\n",
       "    .dataframe tbody tr th:only-of-type {\n",
       "        vertical-align: middle;\n",
       "    }\n",
       "\n",
       "    .dataframe tbody tr th {\n",
       "        vertical-align: top;\n",
       "    }\n",
       "\n",
       "    .dataframe thead th {\n",
       "        text-align: right;\n",
       "    }\n",
       "</style>\n",
       "<table border=\"1\" class=\"dataframe\">\n",
       "  <thead>\n",
       "    <tr style=\"text-align: right;\">\n",
       "      <th></th>\n",
       "      <th>Reach</th>\n",
       "      <th>Age</th>\n",
       "      <th>Gender</th>\n",
       "      <th>Impressions</th>\n",
       "      <th>Unique clicks (all)</th>\n",
       "    </tr>\n",
       "  </thead>\n",
       "  <tbody>\n",
       "    <tr>\n",
       "      <th>4</th>\n",
       "      <td>1331</td>\n",
       "      <td>25-34</td>\n",
       "      <td>All</td>\n",
       "      <td>2685</td>\n",
       "      <td>35</td>\n",
       "    </tr>\n",
       "    <tr>\n",
       "      <th>5</th>\n",
       "      <td>981</td>\n",
       "      <td>25-34</td>\n",
       "      <td>male</td>\n",
       "      <td>1951</td>\n",
       "      <td>22</td>\n",
       "    </tr>\n",
       "    <tr>\n",
       "      <th>6</th>\n",
       "      <td>348</td>\n",
       "      <td>25-34</td>\n",
       "      <td>female</td>\n",
       "      <td>732</td>\n",
       "      <td>13</td>\n",
       "    </tr>\n",
       "    <tr>\n",
       "      <th>8</th>\n",
       "      <td>1436</td>\n",
       "      <td>18-24</td>\n",
       "      <td>All</td>\n",
       "      <td>3214</td>\n",
       "      <td>46</td>\n",
       "    </tr>\n",
       "    <tr>\n",
       "      <th>9</th>\n",
       "      <td>1051</td>\n",
       "      <td>18-24</td>\n",
       "      <td>male</td>\n",
       "      <td>2299</td>\n",
       "      <td>34</td>\n",
       "    </tr>\n",
       "    <tr>\n",
       "      <th>10</th>\n",
       "      <td>385</td>\n",
       "      <td>18-24</td>\n",
       "      <td>female</td>\n",
       "      <td>915</td>\n",
       "      <td>12</td>\n",
       "    </tr>\n",
       "    <tr>\n",
       "      <th>11</th>\n",
       "      <td>172</td>\n",
       "      <td>35-44</td>\n",
       "      <td>All</td>\n",
       "      <td>405</td>\n",
       "      <td>5</td>\n",
       "    </tr>\n",
       "    <tr>\n",
       "      <th>12</th>\n",
       "      <td>133</td>\n",
       "      <td>35-44</td>\n",
       "      <td>male</td>\n",
       "      <td>304</td>\n",
       "      <td>2</td>\n",
       "    </tr>\n",
       "    <tr>\n",
       "      <th>13</th>\n",
       "      <td>39</td>\n",
       "      <td>35-44</td>\n",
       "      <td>female</td>\n",
       "      <td>101</td>\n",
       "      <td>3</td>\n",
       "    </tr>\n",
       "    <tr>\n",
       "      <th>16</th>\n",
       "      <td>1524</td>\n",
       "      <td>25-34</td>\n",
       "      <td>All</td>\n",
       "      <td>3379</td>\n",
       "      <td>30</td>\n",
       "    </tr>\n",
       "  </tbody>\n",
       "</table>\n",
       "</div>"
      ],
      "text/plain": [
       "    Reach    Age  Gender  Impressions  Unique clicks (all)\n",
       "4    1331  25-34     All         2685                   35\n",
       "5     981  25-34    male         1951                   22\n",
       "6     348  25-34  female          732                   13\n",
       "8    1436  18-24     All         3214                   46\n",
       "9    1051  18-24    male         2299                   34\n",
       "10    385  18-24  female          915                   12\n",
       "11    172  35-44     All          405                    5\n",
       "12    133  35-44    male          304                    2\n",
       "13     39  35-44  female          101                    3\n",
       "16   1524  25-34     All         3379                   30"
      ]
     },
     "execution_count": 32,
     "metadata": {},
     "output_type": "execute_result"
    }
   ],
   "source": [
    "# Choosing the relevant features\n",
    "clustering_data = data[[\"Reach\", \"Age\", \"Gender\", \"Impressions\",\n",
    "                        \"Unique clicks (all)\"]].dropna()\n",
    "\n",
    "# Discarding rows having one of the following values\n",
    "# \"All\" for column Ad name\n",
    "# \"All\" for column Age\n",
    "# \"unknown\" for column Gender\n",
    "clustering_data = clustering_data[((clustering_data[\"Age\"] != \"All\") &\n",
    "                                  (clustering_data[\"Gender\"] != \"unknown\"))]\n",
    "\n",
    "clustering_data.head(n = 10)"
   ]
  },
  {
   "cell_type": "code",
   "execution_count": 33,
   "metadata": {},
   "outputs": [],
   "source": [
    "# Dummified data\n",
    "dummified_data = pd.get_dummies(clustering_data[[\"Age\", \"Gender\"]])\n",
    "\n",
    "# Concatenating the data with the original data\n",
    "clustering_data = pd.concat([clustering_data[[\"Reach\", \n",
    "                                             \"Impressions\", \n",
    "                                             \"Unique clicks (all)\"]],\n",
    "                           dummified_data], axis = 1)"
   ]
  },
  {
   "cell_type": "markdown",
   "metadata": {},
   "source": [
    "Now that we have dummified the data, we look at the features, Reach, Unique clicks and impressions, are continous numerical features and have different scales. We can use either **Standardisation** or **Normalization** to scale them. We choose **Standardisation** as it does not suppresse the outliers."
   ]
  },
  {
   "cell_type": "code",
   "execution_count": 34,
   "metadata": {},
   "outputs": [
    {
     "name": "stderr",
     "output_type": "stream",
     "text": [
      "C:\\Users\\amanlp7\\Miniconda3\\lib\\site-packages\\sklearn\\preprocessing\\data.py:617: DataConversionWarning: Data with input dtype int64 were all converted to float64 by StandardScaler.\n",
      "  return self.partial_fit(X, y)\n",
      "C:\\Users\\amanlp7\\Miniconda3\\lib\\site-packages\\ipykernel_launcher.py:9: DataConversionWarning: Data with input dtype int64 were all converted to float64 by StandardScaler.\n",
      "  if __name__ == '__main__':\n"
     ]
    }
   ],
   "source": [
    "# Standardising the continous features\n",
    "\n",
    "from sklearn.preprocessing import StandardScaler\n",
    "\n",
    "scaler = StandardScaler()\n",
    "scaler.fit(clustering_data[[\"Reach\", \"Impressions\", \"Unique clicks (all)\"]])\n",
    "transformed_data = scaler.transform(clustering_data[[\"Reach\", \n",
    "                                                     \"Impressions\", \n",
    "                                                     \"Unique clicks (all)\"]])\n",
    "clustering_data[[\"Reach\", \"Impressions\", \"Unique clicks (all)\"]] = transformed_data"
   ]
  },
  {
   "cell_type": "markdown",
   "metadata": {},
   "source": [
    "We need to choose the optimal number of clusters for our clustering, we can use elbow method for that, initially we choose number of clusters from 2 to 8, and see the result, based on that we can increase or decrease the number of clusters."
   ]
  },
  {
   "cell_type": "code",
   "execution_count": 35,
   "metadata": {},
   "outputs": [],
   "source": [
    "# Implementing kmeans clustering\n",
    "\n",
    "from scipy.spatial.distance import cdist\n",
    "\n",
    "# Choosing clusters from 2 to 25\n",
    "clusters = [x for x in range(2,26)]\n",
    "distances = []\n",
    "\n",
    "# Performing k means clustering with number of clusters\n",
    "# ranging from 2 to 25\n",
    "for k in clusters:\n",
    "    \n",
    "    model = KMeans(n_clusters=k)\n",
    "    model.fit(clustering_data)\n",
    "    distances.append(sum(np.min(cdist(clustering_data, model.cluster_centers_), \n",
    "                                axis = 1)) / clustering_data.shape[0])"
   ]
  },
  {
   "cell_type": "code",
   "execution_count": 36,
   "metadata": {},
   "outputs": [
    {
     "data": {
      "text/plain": [
       "([<matplotlib.axis.XTick at 0x623e825f98>,\n",
       "  <matplotlib.axis.XTick at 0x623e8258d0>,\n",
       "  <matplotlib.axis.XTick at 0x623e825668>,\n",
       "  <matplotlib.axis.XTick at 0x623e846ba8>,\n",
       "  <matplotlib.axis.XTick at 0x623e850208>,\n",
       "  <matplotlib.axis.XTick at 0x623e850780>,\n",
       "  <matplotlib.axis.XTick at 0x623e75e0f0>,\n",
       "  <matplotlib.axis.XTick at 0x623e75e550>,\n",
       "  <matplotlib.axis.XTick at 0x623e75ea20>,\n",
       "  <matplotlib.axis.XTick at 0x623e75eef0>,\n",
       "  <matplotlib.axis.XTick at 0x623e757400>,\n",
       "  <matplotlib.axis.XTick at 0x623e7578d0>,\n",
       "  <matplotlib.axis.XTick at 0x623e75eb00>],\n",
       " <a list of 13 Text xticklabel objects>)"
      ]
     },
     "execution_count": 36,
     "metadata": {},
     "output_type": "execute_result"
    },
    {
     "data": {
      "image/png": "[encoded data removed]",
      "text/plain": [
       "<Figure size 720x360 with 1 Axes>"
      ]
     },
     "metadata": {
      "needs_background": "light"
     },
     "output_type": "display_data"
    }
   ],
   "source": [
    "# Plotting the elbow curve to get optimal\n",
    "# number of clusters\n",
    "\n",
    "plt.figure(figsize=(10,5))\n",
    "sns.lineplot(x = clusters, y = distances) \n",
    "plt.xlabel(\"Number of clusters\")\n",
    "plt.ylabel(\"Sum of distortions\")\n",
    "plt.title(\"Finding optimal number of clusters using elbow method\", size = 18, pad = 30.5)\n",
    "plt.xticks(np.arange(0, 25, step=2))"
   ]
  },
  {
   "cell_type": "markdown",
   "metadata": {},
   "source": [
    "From the above plot we see that the decrease in distortion plateaus when the number of clusters becomes greater than 12, so 12 is the optimal number of clusters, also we can take any number of clusters based on our requirement."
   ]
  }
 ],
 "metadata": {
  "kernelspec": {
   "display_name": "Python 3",
   "language": "python",
   "name": "python3"
  },
  "language_info": {
   "codemirror_mode": {
    "name": "ipython",
    "version": 3
   },
   "file_extension": ".py",
   "mimetype": "text/x-python",
   "name": "python",
   "nbconvert_exporter": "python",
   "pygments_lexer": "ipython3",
   "version": "3.6.6"
  }
 },
 "nbformat": 4,
 "nbformat_minor": 2
}
